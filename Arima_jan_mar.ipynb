{
 "cells": [
  {
   "cell_type": "code",
   "execution_count": 1,
   "id": "3841b03c",
   "metadata": {},
   "outputs": [
    {
     "data": {
      "text/plain": [
       "(8646, 3)"
      ]
     },
     "execution_count": 1,
     "metadata": {},
     "output_type": "execute_result"
    }
   ],
   "source": [
    "import pandas as pd\n",
    "import numpy as np\n",
    "import statsmodels.api as sm\n",
    "import matplotlib.pyplot as plt\n",
    "%matplotlib inline\n",
    "df=pd.read_csv(\"Jan_to_March.csv\",parse_dates=[\"date\"],dayfirst=True)\n",
    "df.info\n",
    "df.shape"
   ]
  },
  {
   "cell_type": "code",
   "execution_count": 2,
   "id": "45f69cf6",
   "metadata": {},
   "outputs": [],
   "source": [
    "from datetime import datetime,date,time"
   ]
  },
  {
   "cell_type": "code",
   "execution_count": 3,
   "id": "7d333901",
   "metadata": {},
   "outputs": [
    {
     "data": {
      "text/html": [
       "<div>\n",
       "<style scoped>\n",
       "    .dataframe tbody tr th:only-of-type {\n",
       "        vertical-align: middle;\n",
       "    }\n",
       "\n",
       "    .dataframe tbody tr th {\n",
       "        vertical-align: top;\n",
       "    }\n",
       "\n",
       "    .dataframe thead th {\n",
       "        text-align: right;\n",
       "    }\n",
       "</style>\n",
       "<table border=\"1\" class=\"dataframe\">\n",
       "  <thead>\n",
       "    <tr style=\"text-align: right;\">\n",
       "      <th></th>\n",
       "      <th>date</th>\n",
       "      <th>time</th>\n",
       "      <th>mcp</th>\n",
       "    </tr>\n",
       "  </thead>\n",
       "  <tbody>\n",
       "    <tr>\n",
       "      <th>0</th>\n",
       "      <td>2021-01-01</td>\n",
       "      <td>00:00</td>\n",
       "      <td>2301.03</td>\n",
       "    </tr>\n",
       "    <tr>\n",
       "      <th>1</th>\n",
       "      <td>2021-01-01</td>\n",
       "      <td>00:15</td>\n",
       "      <td>2300.12</td>\n",
       "    </tr>\n",
       "    <tr>\n",
       "      <th>2</th>\n",
       "      <td>2021-01-01</td>\n",
       "      <td>00:30</td>\n",
       "      <td>2298.10</td>\n",
       "    </tr>\n",
       "    <tr>\n",
       "      <th>3</th>\n",
       "      <td>2021-01-01</td>\n",
       "      <td>00:45</td>\n",
       "      <td>2243.24</td>\n",
       "    </tr>\n",
       "    <tr>\n",
       "      <th>4</th>\n",
       "      <td>2021-01-01</td>\n",
       "      <td>01:00</td>\n",
       "      <td>2131.71</td>\n",
       "    </tr>\n",
       "    <tr>\n",
       "      <th>...</th>\n",
       "      <td>...</td>\n",
       "      <td>...</td>\n",
       "      <td>...</td>\n",
       "    </tr>\n",
       "    <tr>\n",
       "      <th>8641</th>\n",
       "      <td>2021-03-31</td>\n",
       "      <td>23:15</td>\n",
       "      <td>3398.83</td>\n",
       "    </tr>\n",
       "    <tr>\n",
       "      <th>8642</th>\n",
       "      <td>2021-03-31</td>\n",
       "      <td>23:30</td>\n",
       "      <td>3450.12</td>\n",
       "    </tr>\n",
       "    <tr>\n",
       "      <th>8643</th>\n",
       "      <td>2021-03-31</td>\n",
       "      <td>23:45</td>\n",
       "      <td>3450.06</td>\n",
       "    </tr>\n",
       "    <tr>\n",
       "      <th>8644</th>\n",
       "      <td>2021-03-31</td>\n",
       "      <td>23:45</td>\n",
       "      <td>3450.06</td>\n",
       "    </tr>\n",
       "    <tr>\n",
       "      <th>8645</th>\n",
       "      <td>2021-03-31</td>\n",
       "      <td>23:45</td>\n",
       "      <td>3450.06</td>\n",
       "    </tr>\n",
       "  </tbody>\n",
       "</table>\n",
       "<p>8646 rows × 3 columns</p>\n",
       "</div>"
      ],
      "text/plain": [
       "           date   time      mcp\n",
       "0    2021-01-01  00:00  2301.03\n",
       "1    2021-01-01  00:15  2300.12\n",
       "2    2021-01-01  00:30  2298.10\n",
       "3    2021-01-01  00:45  2243.24\n",
       "4    2021-01-01  01:00  2131.71\n",
       "...         ...    ...      ...\n",
       "8641 2021-03-31  23:15  3398.83\n",
       "8642 2021-03-31  23:30  3450.12\n",
       "8643 2021-03-31  23:45  3450.06\n",
       "8644 2021-03-31  23:45  3450.06\n",
       "8645 2021-03-31  23:45  3450.06\n",
       "\n",
       "[8646 rows x 3 columns]"
      ]
     },
     "execution_count": 3,
     "metadata": {},
     "output_type": "execute_result"
    }
   ],
   "source": [
    "df.dropna()"
   ]
  },
  {
   "cell_type": "code",
   "execution_count": 4,
   "id": "6a21314d",
   "metadata": {},
   "outputs": [],
   "source": [
    "for i in range(0,df['time'].size):\n",
    "    df.loc[i,'time']=datetime.strptime(df.loc[i,'time'], '%H:%M').time()"
   ]
  },
  {
   "cell_type": "code",
   "execution_count": 5,
   "id": "5783c6e6",
   "metadata": {},
   "outputs": [],
   "source": [
    "for i in range (0,df['time'].size) :\n",
    "    df.loc[i,'days']=pd.Timestamp.combine((df.loc[i,'date']),(df.loc[i,'time']))"
   ]
  },
  {
   "cell_type": "code",
   "execution_count": 6,
   "id": "04d7bbb9",
   "metadata": {},
   "outputs": [
    {
     "data": {
      "text/html": [
       "<div>\n",
       "<style scoped>\n",
       "    .dataframe tbody tr th:only-of-type {\n",
       "        vertical-align: middle;\n",
       "    }\n",
       "\n",
       "    .dataframe tbody tr th {\n",
       "        vertical-align: top;\n",
       "    }\n",
       "\n",
       "    .dataframe thead th {\n",
       "        text-align: right;\n",
       "    }\n",
       "</style>\n",
       "<table border=\"1\" class=\"dataframe\">\n",
       "  <thead>\n",
       "    <tr style=\"text-align: right;\">\n",
       "      <th></th>\n",
       "      <th>date</th>\n",
       "      <th>time</th>\n",
       "      <th>mcp</th>\n",
       "      <th>days</th>\n",
       "    </tr>\n",
       "  </thead>\n",
       "  <tbody>\n",
       "    <tr>\n",
       "      <th>0</th>\n",
       "      <td>2021-01-01</td>\n",
       "      <td>00:00:00</td>\n",
       "      <td>2301.03</td>\n",
       "      <td>2021-01-01 00:00:00</td>\n",
       "    </tr>\n",
       "    <tr>\n",
       "      <th>1</th>\n",
       "      <td>2021-01-01</td>\n",
       "      <td>00:15:00</td>\n",
       "      <td>2300.12</td>\n",
       "      <td>2021-01-01 00:15:00</td>\n",
       "    </tr>\n",
       "    <tr>\n",
       "      <th>2</th>\n",
       "      <td>2021-01-01</td>\n",
       "      <td>00:30:00</td>\n",
       "      <td>2298.10</td>\n",
       "      <td>2021-01-01 00:30:00</td>\n",
       "    </tr>\n",
       "    <tr>\n",
       "      <th>3</th>\n",
       "      <td>2021-01-01</td>\n",
       "      <td>00:45:00</td>\n",
       "      <td>2243.24</td>\n",
       "      <td>2021-01-01 00:45:00</td>\n",
       "    </tr>\n",
       "    <tr>\n",
       "      <th>4</th>\n",
       "      <td>2021-01-01</td>\n",
       "      <td>01:00:00</td>\n",
       "      <td>2131.71</td>\n",
       "      <td>2021-01-01 01:00:00</td>\n",
       "    </tr>\n",
       "    <tr>\n",
       "      <th>...</th>\n",
       "      <td>...</td>\n",
       "      <td>...</td>\n",
       "      <td>...</td>\n",
       "      <td>...</td>\n",
       "    </tr>\n",
       "    <tr>\n",
       "      <th>8641</th>\n",
       "      <td>2021-03-31</td>\n",
       "      <td>23:15:00</td>\n",
       "      <td>3398.83</td>\n",
       "      <td>2021-03-31 23:15:00</td>\n",
       "    </tr>\n",
       "    <tr>\n",
       "      <th>8642</th>\n",
       "      <td>2021-03-31</td>\n",
       "      <td>23:30:00</td>\n",
       "      <td>3450.12</td>\n",
       "      <td>2021-03-31 23:30:00</td>\n",
       "    </tr>\n",
       "    <tr>\n",
       "      <th>8643</th>\n",
       "      <td>2021-03-31</td>\n",
       "      <td>23:45:00</td>\n",
       "      <td>3450.06</td>\n",
       "      <td>2021-03-31 23:45:00</td>\n",
       "    </tr>\n",
       "    <tr>\n",
       "      <th>8644</th>\n",
       "      <td>2021-03-31</td>\n",
       "      <td>23:45:00</td>\n",
       "      <td>3450.06</td>\n",
       "      <td>2021-03-31 23:45:00</td>\n",
       "    </tr>\n",
       "    <tr>\n",
       "      <th>8645</th>\n",
       "      <td>2021-03-31</td>\n",
       "      <td>23:45:00</td>\n",
       "      <td>3450.06</td>\n",
       "      <td>2021-03-31 23:45:00</td>\n",
       "    </tr>\n",
       "  </tbody>\n",
       "</table>\n",
       "<p>8646 rows × 4 columns</p>\n",
       "</div>"
      ],
      "text/plain": [
       "           date      time      mcp                days\n",
       "0    2021-01-01  00:00:00  2301.03 2021-01-01 00:00:00\n",
       "1    2021-01-01  00:15:00  2300.12 2021-01-01 00:15:00\n",
       "2    2021-01-01  00:30:00  2298.10 2021-01-01 00:30:00\n",
       "3    2021-01-01  00:45:00  2243.24 2021-01-01 00:45:00\n",
       "4    2021-01-01  01:00:00  2131.71 2021-01-01 01:00:00\n",
       "...         ...       ...      ...                 ...\n",
       "8641 2021-03-31  23:15:00  3398.83 2021-03-31 23:15:00\n",
       "8642 2021-03-31  23:30:00  3450.12 2021-03-31 23:30:00\n",
       "8643 2021-03-31  23:45:00  3450.06 2021-03-31 23:45:00\n",
       "8644 2021-03-31  23:45:00  3450.06 2021-03-31 23:45:00\n",
       "8645 2021-03-31  23:45:00  3450.06 2021-03-31 23:45:00\n",
       "\n",
       "[8646 rows x 4 columns]"
      ]
     },
     "execution_count": 6,
     "metadata": {},
     "output_type": "execute_result"
    }
   ],
   "source": [
    "df"
   ]
  },
  {
   "cell_type": "code",
   "execution_count": null,
   "id": "30bd9c49",
   "metadata": {},
   "outputs": [],
   "source": []
  },
  {
   "cell_type": "code",
   "execution_count": 7,
   "id": "073a4997",
   "metadata": {},
   "outputs": [],
   "source": [
    "df=df.set_index('days')"
   ]
  },
  {
   "cell_type": "code",
   "execution_count": 8,
   "id": "3c2d2c97",
   "metadata": {},
   "outputs": [
    {
     "data": {
      "text/html": [
       "<div>\n",
       "<style scoped>\n",
       "    .dataframe tbody tr th:only-of-type {\n",
       "        vertical-align: middle;\n",
       "    }\n",
       "\n",
       "    .dataframe tbody tr th {\n",
       "        vertical-align: top;\n",
       "    }\n",
       "\n",
       "    .dataframe thead th {\n",
       "        text-align: right;\n",
       "    }\n",
       "</style>\n",
       "<table border=\"1\" class=\"dataframe\">\n",
       "  <thead>\n",
       "    <tr style=\"text-align: right;\">\n",
       "      <th></th>\n",
       "      <th>date</th>\n",
       "      <th>time</th>\n",
       "      <th>mcp</th>\n",
       "    </tr>\n",
       "    <tr>\n",
       "      <th>days</th>\n",
       "      <th></th>\n",
       "      <th></th>\n",
       "      <th></th>\n",
       "    </tr>\n",
       "  </thead>\n",
       "  <tbody>\n",
       "    <tr>\n",
       "      <th>2021-01-01 00:00:00</th>\n",
       "      <td>2021-01-01</td>\n",
       "      <td>00:00:00</td>\n",
       "      <td>2301.03</td>\n",
       "    </tr>\n",
       "    <tr>\n",
       "      <th>2021-01-01 00:15:00</th>\n",
       "      <td>2021-01-01</td>\n",
       "      <td>00:15:00</td>\n",
       "      <td>2300.12</td>\n",
       "    </tr>\n",
       "    <tr>\n",
       "      <th>2021-01-01 00:30:00</th>\n",
       "      <td>2021-01-01</td>\n",
       "      <td>00:30:00</td>\n",
       "      <td>2298.10</td>\n",
       "    </tr>\n",
       "    <tr>\n",
       "      <th>2021-01-01 00:45:00</th>\n",
       "      <td>2021-01-01</td>\n",
       "      <td>00:45:00</td>\n",
       "      <td>2243.24</td>\n",
       "    </tr>\n",
       "    <tr>\n",
       "      <th>2021-01-01 01:00:00</th>\n",
       "      <td>2021-01-01</td>\n",
       "      <td>01:00:00</td>\n",
       "      <td>2131.71</td>\n",
       "    </tr>\n",
       "    <tr>\n",
       "      <th>...</th>\n",
       "      <td>...</td>\n",
       "      <td>...</td>\n",
       "      <td>...</td>\n",
       "    </tr>\n",
       "    <tr>\n",
       "      <th>2021-03-31 23:15:00</th>\n",
       "      <td>2021-03-31</td>\n",
       "      <td>23:15:00</td>\n",
       "      <td>3398.83</td>\n",
       "    </tr>\n",
       "    <tr>\n",
       "      <th>2021-03-31 23:30:00</th>\n",
       "      <td>2021-03-31</td>\n",
       "      <td>23:30:00</td>\n",
       "      <td>3450.12</td>\n",
       "    </tr>\n",
       "    <tr>\n",
       "      <th>2021-03-31 23:45:00</th>\n",
       "      <td>2021-03-31</td>\n",
       "      <td>23:45:00</td>\n",
       "      <td>3450.06</td>\n",
       "    </tr>\n",
       "    <tr>\n",
       "      <th>2021-03-31 23:45:00</th>\n",
       "      <td>2021-03-31</td>\n",
       "      <td>23:45:00</td>\n",
       "      <td>3450.06</td>\n",
       "    </tr>\n",
       "    <tr>\n",
       "      <th>2021-03-31 23:45:00</th>\n",
       "      <td>2021-03-31</td>\n",
       "      <td>23:45:00</td>\n",
       "      <td>3450.06</td>\n",
       "    </tr>\n",
       "  </tbody>\n",
       "</table>\n",
       "<p>8646 rows × 3 columns</p>\n",
       "</div>"
      ],
      "text/plain": [
       "                          date      time      mcp\n",
       "days                                             \n",
       "2021-01-01 00:00:00 2021-01-01  00:00:00  2301.03\n",
       "2021-01-01 00:15:00 2021-01-01  00:15:00  2300.12\n",
       "2021-01-01 00:30:00 2021-01-01  00:30:00  2298.10\n",
       "2021-01-01 00:45:00 2021-01-01  00:45:00  2243.24\n",
       "2021-01-01 01:00:00 2021-01-01  01:00:00  2131.71\n",
       "...                        ...       ...      ...\n",
       "2021-03-31 23:15:00 2021-03-31  23:15:00  3398.83\n",
       "2021-03-31 23:30:00 2021-03-31  23:30:00  3450.12\n",
       "2021-03-31 23:45:00 2021-03-31  23:45:00  3450.06\n",
       "2021-03-31 23:45:00 2021-03-31  23:45:00  3450.06\n",
       "2021-03-31 23:45:00 2021-03-31  23:45:00  3450.06\n",
       "\n",
       "[8646 rows x 3 columns]"
      ]
     },
     "execution_count": 8,
     "metadata": {},
     "output_type": "execute_result"
    }
   ],
   "source": [
    "df"
   ]
  },
  {
   "cell_type": "code",
   "execution_count": 9,
   "id": "bfb13c1b",
   "metadata": {},
   "outputs": [],
   "source": [
    "df=df.drop(['time'],axis=1)"
   ]
  },
  {
   "cell_type": "code",
   "execution_count": 10,
   "id": "7d6706fc",
   "metadata": {},
   "outputs": [
    {
     "data": {
      "text/html": [
       "<div>\n",
       "<style scoped>\n",
       "    .dataframe tbody tr th:only-of-type {\n",
       "        vertical-align: middle;\n",
       "    }\n",
       "\n",
       "    .dataframe tbody tr th {\n",
       "        vertical-align: top;\n",
       "    }\n",
       "\n",
       "    .dataframe thead th {\n",
       "        text-align: right;\n",
       "    }\n",
       "</style>\n",
       "<table border=\"1\" class=\"dataframe\">\n",
       "  <thead>\n",
       "    <tr style=\"text-align: right;\">\n",
       "      <th></th>\n",
       "      <th>date</th>\n",
       "      <th>mcp</th>\n",
       "    </tr>\n",
       "    <tr>\n",
       "      <th>days</th>\n",
       "      <th></th>\n",
       "      <th></th>\n",
       "    </tr>\n",
       "  </thead>\n",
       "  <tbody>\n",
       "    <tr>\n",
       "      <th>2021-01-01 00:00:00</th>\n",
       "      <td>2021-01-01</td>\n",
       "      <td>2301.03</td>\n",
       "    </tr>\n",
       "    <tr>\n",
       "      <th>2021-01-01 00:15:00</th>\n",
       "      <td>2021-01-01</td>\n",
       "      <td>2300.12</td>\n",
       "    </tr>\n",
       "    <tr>\n",
       "      <th>2021-01-01 00:30:00</th>\n",
       "      <td>2021-01-01</td>\n",
       "      <td>2298.10</td>\n",
       "    </tr>\n",
       "    <tr>\n",
       "      <th>2021-01-01 00:45:00</th>\n",
       "      <td>2021-01-01</td>\n",
       "      <td>2243.24</td>\n",
       "    </tr>\n",
       "    <tr>\n",
       "      <th>2021-01-01 01:00:00</th>\n",
       "      <td>2021-01-01</td>\n",
       "      <td>2131.71</td>\n",
       "    </tr>\n",
       "    <tr>\n",
       "      <th>...</th>\n",
       "      <td>...</td>\n",
       "      <td>...</td>\n",
       "    </tr>\n",
       "    <tr>\n",
       "      <th>2021-03-31 23:15:00</th>\n",
       "      <td>2021-03-31</td>\n",
       "      <td>3398.83</td>\n",
       "    </tr>\n",
       "    <tr>\n",
       "      <th>2021-03-31 23:30:00</th>\n",
       "      <td>2021-03-31</td>\n",
       "      <td>3450.12</td>\n",
       "    </tr>\n",
       "    <tr>\n",
       "      <th>2021-03-31 23:45:00</th>\n",
       "      <td>2021-03-31</td>\n",
       "      <td>3450.06</td>\n",
       "    </tr>\n",
       "    <tr>\n",
       "      <th>2021-03-31 23:45:00</th>\n",
       "      <td>2021-03-31</td>\n",
       "      <td>3450.06</td>\n",
       "    </tr>\n",
       "    <tr>\n",
       "      <th>2021-03-31 23:45:00</th>\n",
       "      <td>2021-03-31</td>\n",
       "      <td>3450.06</td>\n",
       "    </tr>\n",
       "  </tbody>\n",
       "</table>\n",
       "<p>8646 rows × 2 columns</p>\n",
       "</div>"
      ],
      "text/plain": [
       "                          date      mcp\n",
       "days                                   \n",
       "2021-01-01 00:00:00 2021-01-01  2301.03\n",
       "2021-01-01 00:15:00 2021-01-01  2300.12\n",
       "2021-01-01 00:30:00 2021-01-01  2298.10\n",
       "2021-01-01 00:45:00 2021-01-01  2243.24\n",
       "2021-01-01 01:00:00 2021-01-01  2131.71\n",
       "...                        ...      ...\n",
       "2021-03-31 23:15:00 2021-03-31  3398.83\n",
       "2021-03-31 23:30:00 2021-03-31  3450.12\n",
       "2021-03-31 23:45:00 2021-03-31  3450.06\n",
       "2021-03-31 23:45:00 2021-03-31  3450.06\n",
       "2021-03-31 23:45:00 2021-03-31  3450.06\n",
       "\n",
       "[8646 rows x 2 columns]"
      ]
     },
     "execution_count": 10,
     "metadata": {},
     "output_type": "execute_result"
    }
   ],
   "source": [
    "df"
   ]
  },
  {
   "cell_type": "code",
   "execution_count": 11,
   "id": "f55fd779",
   "metadata": {},
   "outputs": [
    {
     "name": "stderr",
     "output_type": "stream",
     "text": [
      "C:\\Temp\\ipykernel_6656\\3977504172.py:1: FutureWarning: The default value of numeric_only in DataFrameGroupBy.mean is deprecated. In a future version, numeric_only will default to False. Either specify numeric_only or select only columns which should be valid for the function.\n",
      "  df=df.resample('1H').mean()\n"
     ]
    }
   ],
   "source": [
    "df=df.resample('1H').mean()"
   ]
  },
  {
   "cell_type": "code",
   "execution_count": 12,
   "id": "a5edfbd5",
   "metadata": {},
   "outputs": [
    {
     "data": {
      "text/html": [
       "<div>\n",
       "<style scoped>\n",
       "    .dataframe tbody tr th:only-of-type {\n",
       "        vertical-align: middle;\n",
       "    }\n",
       "\n",
       "    .dataframe tbody tr th {\n",
       "        vertical-align: top;\n",
       "    }\n",
       "\n",
       "    .dataframe thead th {\n",
       "        text-align: right;\n",
       "    }\n",
       "</style>\n",
       "<table border=\"1\" class=\"dataframe\">\n",
       "  <thead>\n",
       "    <tr style=\"text-align: right;\">\n",
       "      <th></th>\n",
       "      <th>mcp</th>\n",
       "    </tr>\n",
       "    <tr>\n",
       "      <th>days</th>\n",
       "      <th></th>\n",
       "    </tr>\n",
       "  </thead>\n",
       "  <tbody>\n",
       "    <tr>\n",
       "      <th>2021-01-01 00:00:00</th>\n",
       "      <td>2285.622500</td>\n",
       "    </tr>\n",
       "    <tr>\n",
       "      <th>2021-01-01 01:00:00</th>\n",
       "      <td>2097.212500</td>\n",
       "    </tr>\n",
       "    <tr>\n",
       "      <th>2021-01-01 02:00:00</th>\n",
       "      <td>2008.192500</td>\n",
       "    </tr>\n",
       "    <tr>\n",
       "      <th>2021-01-01 03:00:00</th>\n",
       "      <td>2008.322500</td>\n",
       "    </tr>\n",
       "    <tr>\n",
       "      <th>2021-01-01 04:00:00</th>\n",
       "      <td>2038.725000</td>\n",
       "    </tr>\n",
       "    <tr>\n",
       "      <th>...</th>\n",
       "      <td>...</td>\n",
       "    </tr>\n",
       "    <tr>\n",
       "      <th>2021-03-31 19:00:00</th>\n",
       "      <td>4276.995000</td>\n",
       "    </tr>\n",
       "    <tr>\n",
       "      <th>2021-03-31 20:00:00</th>\n",
       "      <td>4305.230000</td>\n",
       "    </tr>\n",
       "    <tr>\n",
       "      <th>2021-03-31 21:00:00</th>\n",
       "      <td>3937.027500</td>\n",
       "    </tr>\n",
       "    <tr>\n",
       "      <th>2021-03-31 22:00:00</th>\n",
       "      <td>3425.307500</td>\n",
       "    </tr>\n",
       "    <tr>\n",
       "      <th>2021-03-31 23:00:00</th>\n",
       "      <td>3441.628333</td>\n",
       "    </tr>\n",
       "  </tbody>\n",
       "</table>\n",
       "<p>2160 rows × 1 columns</p>\n",
       "</div>"
      ],
      "text/plain": [
       "                             mcp\n",
       "days                            \n",
       "2021-01-01 00:00:00  2285.622500\n",
       "2021-01-01 01:00:00  2097.212500\n",
       "2021-01-01 02:00:00  2008.192500\n",
       "2021-01-01 03:00:00  2008.322500\n",
       "2021-01-01 04:00:00  2038.725000\n",
       "...                          ...\n",
       "2021-03-31 19:00:00  4276.995000\n",
       "2021-03-31 20:00:00  4305.230000\n",
       "2021-03-31 21:00:00  3937.027500\n",
       "2021-03-31 22:00:00  3425.307500\n",
       "2021-03-31 23:00:00  3441.628333\n",
       "\n",
       "[2160 rows x 1 columns]"
      ]
     },
     "execution_count": 12,
     "metadata": {},
     "output_type": "execute_result"
    }
   ],
   "source": [
    "df"
   ]
  },
  {
   "cell_type": "code",
   "execution_count": 13,
   "id": "083eb1d8",
   "metadata": {},
   "outputs": [
    {
     "data": {
      "text/plain": [
       "<AxesSubplot:xlabel='days'>"
      ]
     },
     "execution_count": 13,
     "metadata": {},
     "output_type": "execute_result"
    },
    {
     "data": {
      "image/png": "[encoded data removed]",
      "text/plain": [
       "<Figure size 432x288 with 1 Axes>"
      ]
     },
     "metadata": {
      "needs_background": "light"
     },
     "output_type": "display_data"
    }
   ],
   "source": [
    "df.plot()"
   ]
  },
  {
   "cell_type": "code",
   "execution_count": 14,
   "id": "27dc6004",
   "metadata": {},
   "outputs": [],
   "source": [
    "### Testing For Stationarity\n",
    "\n",
    "from statsmodels.tsa.stattools import adfuller"
   ]
  },
  {
   "cell_type": "code",
   "execution_count": 15,
   "id": "5f08b302",
   "metadata": {},
   "outputs": [],
   "source": [
    "test_result=adfuller(df['mcp'])"
   ]
  },
  {
   "cell_type": "code",
   "execution_count": 16,
   "id": "7cd14dd8",
   "metadata": {},
   "outputs": [],
   "source": [
    "#Ho: It is non stationary\n",
    "#H1: It is stationary\n",
    "\n",
    "def adfuller_test(mcp):\n",
    "    result=adfuller(mcp)\n",
    "    labels = ['ADF Test Statistic','p-value','#Lags Used','Number of Observations Used']\n",
    "    for value,label in zip(result,labels):\n",
    "        print(label+' : '+str(value) )\n",
    "    if result[1] <= 0.05:\n",
    "        print(\"strong evidence against the null hypothesis(Ho), reject the null hypothesis. Data has no unit root and is stationary\")\n",
    "    else:\n",
    "        print(\"weak evidence against null hypothesis, time series has a unit root, indicating it is non-stationary \")"
   ]
  },
  {
   "cell_type": "code",
   "execution_count": 17,
   "id": "e5f3c4db",
   "metadata": {},
   "outputs": [
    {
     "name": "stdout",
     "output_type": "stream",
     "text": [
      "ADF Test Statistic : -3.582370787713763\n",
      "p-value : 0.0061071436229402\n",
      "#Lags Used : 26\n",
      "Number of Observations Used : 2133\n",
      "strong evidence against the null hypothesis(Ho), reject the null hypothesis. Data has no unit root and is stationary\n"
     ]
    }
   ],
   "source": [
    "adfuller_test(df['mcp'])"
   ]
  },
  {
   "cell_type": "code",
   "execution_count": 18,
   "id": "2e1cfc25",
   "metadata": {},
   "outputs": [],
   "source": [
    "# df['Seasonal First Difference']=df['mcp']-df['mcp'].shift(50)"
   ]
  },
  {
   "cell_type": "code",
   "execution_count": null,
   "id": "2c669044",
   "metadata": {},
   "outputs": [],
   "source": []
  },
  {
   "cell_type": "code",
   "execution_count": 19,
   "id": "c0c86d4d",
   "metadata": {},
   "outputs": [],
   "source": [
    "## Again test dickey fuller test\n",
    "# adfuller_test(df['Seasonal First Difference'].dropna())"
   ]
  },
  {
   "cell_type": "code",
   "execution_count": 20,
   "id": "2d64ccc1",
   "metadata": {},
   "outputs": [],
   "source": [
    "# df['Seasonal First Difference'].plot()"
   ]
  },
  {
   "cell_type": "code",
   "execution_count": 21,
   "id": "ce2e1266",
   "metadata": {},
   "outputs": [
    {
     "data": {
      "image/png": "[encoded data removed]",
      "text/plain": [
       "<Figure size 432x288 with 1 Axes>"
      ]
     },
     "metadata": {
      "needs_background": "light"
     },
     "output_type": "display_data"
    }
   ],
   "source": [
    "from pandas.plotting import autocorrelation_plot\n",
    "autocorrelation_plot(df['mcp'])\n",
    "plt.show()"
   ]
  },
  {
   "cell_type": "code",
   "execution_count": 22,
   "id": "9e90ceff",
   "metadata": {},
   "outputs": [],
   "source": [
    "import statsmodels.api as sm"
   ]
  },
  {
   "cell_type": "code",
   "execution_count": 23,
   "id": "44f51401",
   "metadata": {},
   "outputs": [],
   "source": [
    "from statsmodels.graphics.tsaplots import plot_acf,plot_pacf"
   ]
  },
  {
   "cell_type": "code",
   "execution_count": 24,
   "id": "2bdfbae5",
   "metadata": {},
   "outputs": [
    {
     "name": "stderr",
     "output_type": "stream",
     "text": [
      "C:\\Users\\arpan\\AppData\\Local\\Programs\\Python\\Python310\\lib\\site-packages\\statsmodels\\graphics\\tsaplots.py:348: FutureWarning: The default method 'yw' can produce PACF values outside of the [-1,1] interval. After 0.13, the default will change tounadjusted Yule-Walker ('ywm'). You can use this method now by setting method='ywm'.\n",
      "  warnings.warn(\n"
     ]
    },
    {
     "data": {
      "image/png": "[encoded data removed]",
      "text/plain": [
       "<Figure size 864x576 with 2 Axes>"
      ]
     },
     "metadata": {
      "needs_background": "light"
     },
     "output_type": "display_data"
    }
   ],
   "source": [
    "fig = plt.figure(figsize=(12,8))\n",
    "ax1 = fig.add_subplot(211)\n",
    "fig = sm.graphics.tsa.plot_acf(df['mcp'].dropna(),lags=40,ax=ax1)\n",
    "ax2 = fig.add_subplot(212)\n",
    "fig = sm.graphics.tsa.plot_pacf(df['mcp'].dropna(),lags=40,ax=ax2)"
   ]
  },
  {
   "cell_type": "code",
   "execution_count": 25,
   "id": "c3b87309",
   "metadata": {},
   "outputs": [],
   "source": [
    "# from pmdarima import auto_arima\n",
    "# stepwise_fit = auto_arima(df['mcp'], trace=True,\n",
    "# suppress_warnings=True)"
   ]
  },
  {
   "cell_type": "code",
   "execution_count": 149,
   "id": "c40f8989",
   "metadata": {},
   "outputs": [],
   "source": [
    "model=sm.tsa.statespace.SARIMAX(df['mcp'],order=(23, 1, 0))\n",
    "results=model.fit()"
   ]
  },
  {
   "cell_type": "code",
   "execution_count": 150,
   "id": "f4b0750f",
   "metadata": {},
   "outputs": [],
   "source": [
    "# from statsmodels.tsa.arima.model import ARIMA\n",
    "# model=ARIMA(df['mcp'],order=(24,0,1))\n",
    "# result=model.fit()\n",
    "# result.summary()"
   ]
  },
  {
   "cell_type": "code",
   "execution_count": 151,
   "id": "791df216",
   "metadata": {},
   "outputs": [
    {
     "name": "stdout",
     "output_type": "stream",
     "text": [
      "(2160, 1)\n",
      "(2136, 1) (24, 1)\n"
     ]
    }
   ],
   "source": [
    "print(df.shape)\n",
    "train=df.iloc[:-24]\n",
    "test=df.iloc[-24:]\n",
    "print(train.shape,test.shape)"
   ]
  },
  {
   "cell_type": "code",
   "execution_count": 152,
   "id": "3e2bb5ee",
   "metadata": {},
   "outputs": [],
   "source": [
    "start=len(train)\n",
    "end=len(train)+len(test)-1\n",
    "\n",
    "\n",
    "# df['forecast']=results.predict(start,end,dynamic=True)\n",
    "# df[['mcp','forecast']].plot(figsize=(12,8))\n",
    "\n",
    "pred=results.predict(start,end,dynamic=True)\n",
    "test_vs_pred=pd.concat([test['mcp'],pred],axis=1)"
   ]
  },
  {
   "cell_type": "code",
   "execution_count": 153,
   "id": "278becce",
   "metadata": {},
   "outputs": [
    {
     "data": {
      "text/plain": [
       "<AxesSubplot:xlabel='days'>"
      ]
     },
     "execution_count": 153,
     "metadata": {},
     "output_type": "execute_result"
    },
    {
     "data": {
      "image/png": "[encoded data removed]",
      "text/plain": [
       "<Figure size 864x360 with 1 Axes>"
      ]
     },
     "metadata": {
      "needs_background": "light"
     },
     "output_type": "display_data"
    }
   ],
   "source": [
    "test_vs_pred.plot(figsize=(12,5))"
   ]
  },
  {
   "cell_type": "code",
   "execution_count": 154,
   "id": "0d646a19",
   "metadata": {},
   "outputs": [
    {
     "name": "stdout",
     "output_type": "stream",
     "text": [
      "1054.4066692674885\n"
     ]
    }
   ],
   "source": [
    "from sklearn.metrics import mean_squared_error\n",
    "from math import sqrt\n",
    "rmse=sqrt(mean_squared_error(test['mcp'],pred))\n",
    "print(rmse)"
   ]
  },
  {
   "cell_type": "code",
   "execution_count": 155,
   "id": "519a06dc",
   "metadata": {},
   "outputs": [],
   "source": [
    "from sklearn.metrics import mean_absolute_percentage_error\n",
    "error=mean_absolute_percentage_error(test['mcp'],pred)"
   ]
  },
  {
   "cell_type": "code",
   "execution_count": 156,
   "id": "f7fe5544",
   "metadata": {},
   "outputs": [
    {
     "name": "stdout",
     "output_type": "stream",
     "text": [
      "0.1981863172580205\n"
     ]
    }
   ],
   "source": [
    "print(error)"
   ]
  },
  {
   "cell_type": "code",
   "execution_count": 124,
   "id": "93d85d1b",
   "metadata": {},
   "outputs": [],
   "source": [
    "# df['forecast']=results.predict(start=90,end=200,dynamic=True)\n",
    "# df[['mcp','forecast']].plot(figsize=(12,8))"
   ]
  },
  {
   "cell_type": "code",
   "execution_count": 74,
   "id": "9722cde2",
   "metadata": {},
   "outputs": [
    {
     "data": {
      "text/html": [
       "<div>\n",
       "<style scoped>\n",
       "    .dataframe tbody tr th:only-of-type {\n",
       "        vertical-align: middle;\n",
       "    }\n",
       "\n",
       "    .dataframe tbody tr th {\n",
       "        vertical-align: top;\n",
       "    }\n",
       "\n",
       "    .dataframe thead th {\n",
       "        text-align: right;\n",
       "    }\n",
       "</style>\n",
       "<table border=\"1\" class=\"dataframe\">\n",
       "  <thead>\n",
       "    <tr style=\"text-align: right;\">\n",
       "      <th></th>\n",
       "      <th>mcp</th>\n",
       "    </tr>\n",
       "    <tr>\n",
       "      <th>days</th>\n",
       "      <th></th>\n",
       "    </tr>\n",
       "  </thead>\n",
       "  <tbody>\n",
       "    <tr>\n",
       "      <th>2021-01-01 00:00:00</th>\n",
       "      <td>2285.622500</td>\n",
       "    </tr>\n",
       "    <tr>\n",
       "      <th>2021-01-01 01:00:00</th>\n",
       "      <td>2097.212500</td>\n",
       "    </tr>\n",
       "    <tr>\n",
       "      <th>2021-01-01 02:00:00</th>\n",
       "      <td>2008.192500</td>\n",
       "    </tr>\n",
       "    <tr>\n",
       "      <th>2021-01-01 03:00:00</th>\n",
       "      <td>2008.322500</td>\n",
       "    </tr>\n",
       "    <tr>\n",
       "      <th>2021-01-01 04:00:00</th>\n",
       "      <td>2038.725000</td>\n",
       "    </tr>\n",
       "    <tr>\n",
       "      <th>...</th>\n",
       "      <td>...</td>\n",
       "    </tr>\n",
       "    <tr>\n",
       "      <th>2021-03-31 19:00:00</th>\n",
       "      <td>4276.995000</td>\n",
       "    </tr>\n",
       "    <tr>\n",
       "      <th>2021-03-31 20:00:00</th>\n",
       "      <td>4305.230000</td>\n",
       "    </tr>\n",
       "    <tr>\n",
       "      <th>2021-03-31 21:00:00</th>\n",
       "      <td>3937.027500</td>\n",
       "    </tr>\n",
       "    <tr>\n",
       "      <th>2021-03-31 22:00:00</th>\n",
       "      <td>3425.307500</td>\n",
       "    </tr>\n",
       "    <tr>\n",
       "      <th>2021-03-31 23:00:00</th>\n",
       "      <td>3441.628333</td>\n",
       "    </tr>\n",
       "  </tbody>\n",
       "</table>\n",
       "<p>2160 rows × 1 columns</p>\n",
       "</div>"
      ],
      "text/plain": [
       "                             mcp\n",
       "days                            \n",
       "2021-01-01 00:00:00  2285.622500\n",
       "2021-01-01 01:00:00  2097.212500\n",
       "2021-01-01 02:00:00  2008.192500\n",
       "2021-01-01 03:00:00  2008.322500\n",
       "2021-01-01 04:00:00  2038.725000\n",
       "...                          ...\n",
       "2021-03-31 19:00:00  4276.995000\n",
       "2021-03-31 20:00:00  4305.230000\n",
       "2021-03-31 21:00:00  3937.027500\n",
       "2021-03-31 22:00:00  3425.307500\n",
       "2021-03-31 23:00:00  3441.628333\n",
       "\n",
       "[2160 rows x 1 columns]"
      ]
     },
     "execution_count": 74,
     "metadata": {},
     "output_type": "execute_result"
    }
   ],
   "source": [
    "df"
   ]
  },
  {
   "cell_type": "code",
   "execution_count": 75,
   "id": "764424d6",
   "metadata": {},
   "outputs": [
    {
     "data": {
      "text/html": [
       "<div>\n",
       "<style scoped>\n",
       "    .dataframe tbody tr th:only-of-type {\n",
       "        vertical-align: middle;\n",
       "    }\n",
       "\n",
       "    .dataframe tbody tr th {\n",
       "        vertical-align: top;\n",
       "    }\n",
       "\n",
       "    .dataframe thead th {\n",
       "        text-align: right;\n",
       "    }\n",
       "</style>\n",
       "<table border=\"1\" class=\"dataframe\">\n",
       "  <thead>\n",
       "    <tr style=\"text-align: right;\">\n",
       "      <th></th>\n",
       "      <th>mcp</th>\n",
       "    </tr>\n",
       "    <tr>\n",
       "      <th>days</th>\n",
       "      <th></th>\n",
       "    </tr>\n",
       "  </thead>\n",
       "  <tbody>\n",
       "    <tr>\n",
       "      <th>2021-01-01 00:00:00</th>\n",
       "      <td>2285.6225</td>\n",
       "    </tr>\n",
       "    <tr>\n",
       "      <th>2021-01-01 01:00:00</th>\n",
       "      <td>2097.2125</td>\n",
       "    </tr>\n",
       "    <tr>\n",
       "      <th>2021-01-01 02:00:00</th>\n",
       "      <td>2008.1925</td>\n",
       "    </tr>\n",
       "    <tr>\n",
       "      <th>2021-01-01 03:00:00</th>\n",
       "      <td>2008.3225</td>\n",
       "    </tr>\n",
       "    <tr>\n",
       "      <th>2021-01-01 04:00:00</th>\n",
       "      <td>2038.7250</td>\n",
       "    </tr>\n",
       "  </tbody>\n",
       "</table>\n",
       "</div>"
      ],
      "text/plain": [
       "                           mcp\n",
       "days                          \n",
       "2021-01-01 00:00:00  2285.6225\n",
       "2021-01-01 01:00:00  2097.2125\n",
       "2021-01-01 02:00:00  2008.1925\n",
       "2021-01-01 03:00:00  2008.3225\n",
       "2021-01-01 04:00:00  2038.7250"
      ]
     },
     "execution_count": 75,
     "metadata": {},
     "output_type": "execute_result"
    }
   ],
   "source": [
    "df.head()"
   ]
  },
  {
   "cell_type": "code",
   "execution_count": 76,
   "id": "b3df8e25",
   "metadata": {},
   "outputs": [],
   "source": [
    "from pandas.tseries.offsets import DateOffset\n",
    "future_dates=[df.index[-1]+ DateOffset(hours=x)for x in range(0,30)]"
   ]
  },
  {
   "cell_type": "code",
   "execution_count": 77,
   "id": "f9886880",
   "metadata": {},
   "outputs": [],
   "source": [
    "future_datest_df=pd.DataFrame(index=future_dates[1:],columns=df.columns)"
   ]
  },
  {
   "cell_type": "code",
   "execution_count": 78,
   "id": "bb12c084",
   "metadata": {},
   "outputs": [
    {
     "data": {
      "text/html": [
       "<div>\n",
       "<style scoped>\n",
       "    .dataframe tbody tr th:only-of-type {\n",
       "        vertical-align: middle;\n",
       "    }\n",
       "\n",
       "    .dataframe tbody tr th {\n",
       "        vertical-align: top;\n",
       "    }\n",
       "\n",
       "    .dataframe thead th {\n",
       "        text-align: right;\n",
       "    }\n",
       "</style>\n",
       "<table border=\"1\" class=\"dataframe\">\n",
       "  <thead>\n",
       "    <tr style=\"text-align: right;\">\n",
       "      <th></th>\n",
       "      <th>mcp</th>\n",
       "    </tr>\n",
       "  </thead>\n",
       "  <tbody>\n",
       "    <tr>\n",
       "      <th>2021-04-01 00:00:00</th>\n",
       "      <td>NaN</td>\n",
       "    </tr>\n",
       "    <tr>\n",
       "      <th>2021-04-01 01:00:00</th>\n",
       "      <td>NaN</td>\n",
       "    </tr>\n",
       "    <tr>\n",
       "      <th>2021-04-01 02:00:00</th>\n",
       "      <td>NaN</td>\n",
       "    </tr>\n",
       "    <tr>\n",
       "      <th>2021-04-01 03:00:00</th>\n",
       "      <td>NaN</td>\n",
       "    </tr>\n",
       "    <tr>\n",
       "      <th>2021-04-01 04:00:00</th>\n",
       "      <td>NaN</td>\n",
       "    </tr>\n",
       "  </tbody>\n",
       "</table>\n",
       "</div>"
      ],
      "text/plain": [
       "                     mcp\n",
       "2021-04-01 00:00:00  NaN\n",
       "2021-04-01 01:00:00  NaN\n",
       "2021-04-01 02:00:00  NaN\n",
       "2021-04-01 03:00:00  NaN\n",
       "2021-04-01 04:00:00  NaN"
      ]
     },
     "execution_count": 78,
     "metadata": {},
     "output_type": "execute_result"
    }
   ],
   "source": [
    "future_datest_df.head()"
   ]
  },
  {
   "cell_type": "code",
   "execution_count": 79,
   "id": "3126262d",
   "metadata": {},
   "outputs": [],
   "source": [
    "future_datest_df['forecast'] = results.predict(start = len(train)+len(test)-1, end = 8807, dynamic= True)  \n",
    "# future_df[['forecast']].plot(figsize=(12, 8)) "
   ]
  },
  {
   "cell_type": "code",
   "execution_count": 80,
   "id": "c415bd5f",
   "metadata": {},
   "outputs": [
    {
     "data": {
      "text/html": [
       "<div>\n",
       "<style scoped>\n",
       "    .dataframe tbody tr th:only-of-type {\n",
       "        vertical-align: middle;\n",
       "    }\n",
       "\n",
       "    .dataframe tbody tr th {\n",
       "        vertical-align: top;\n",
       "    }\n",
       "\n",
       "    .dataframe thead th {\n",
       "        text-align: right;\n",
       "    }\n",
       "</style>\n",
       "<table border=\"1\" class=\"dataframe\">\n",
       "  <thead>\n",
       "    <tr style=\"text-align: right;\">\n",
       "      <th></th>\n",
       "      <th>mcp</th>\n",
       "      <th>forecast</th>\n",
       "    </tr>\n",
       "  </thead>\n",
       "  <tbody>\n",
       "    <tr>\n",
       "      <th>2021-04-01 00:00:00</th>\n",
       "      <td>NaN</td>\n",
       "      <td>3604.566994</td>\n",
       "    </tr>\n",
       "    <tr>\n",
       "      <th>2021-04-01 01:00:00</th>\n",
       "      <td>NaN</td>\n",
       "      <td>3563.022688</td>\n",
       "    </tr>\n",
       "    <tr>\n",
       "      <th>2021-04-01 02:00:00</th>\n",
       "      <td>NaN</td>\n",
       "      <td>3476.098039</td>\n",
       "    </tr>\n",
       "    <tr>\n",
       "      <th>2021-04-01 03:00:00</th>\n",
       "      <td>NaN</td>\n",
       "      <td>3353.398382</td>\n",
       "    </tr>\n",
       "    <tr>\n",
       "      <th>2021-04-01 04:00:00</th>\n",
       "      <td>NaN</td>\n",
       "      <td>3250.045897</td>\n",
       "    </tr>\n",
       "    <tr>\n",
       "      <th>2021-04-01 05:00:00</th>\n",
       "      <td>NaN</td>\n",
       "      <td>3365.073400</td>\n",
       "    </tr>\n",
       "    <tr>\n",
       "      <th>2021-04-01 06:00:00</th>\n",
       "      <td>NaN</td>\n",
       "      <td>3553.822649</td>\n",
       "    </tr>\n",
       "    <tr>\n",
       "      <th>2021-04-01 07:00:00</th>\n",
       "      <td>NaN</td>\n",
       "      <td>3500.771495</td>\n",
       "    </tr>\n",
       "    <tr>\n",
       "      <th>2021-04-01 08:00:00</th>\n",
       "      <td>NaN</td>\n",
       "      <td>3332.390483</td>\n",
       "    </tr>\n",
       "    <tr>\n",
       "      <th>2021-04-01 09:00:00</th>\n",
       "      <td>NaN</td>\n",
       "      <td>3386.560612</td>\n",
       "    </tr>\n",
       "    <tr>\n",
       "      <th>2021-04-01 10:00:00</th>\n",
       "      <td>NaN</td>\n",
       "      <td>3275.072096</td>\n",
       "    </tr>\n",
       "    <tr>\n",
       "      <th>2021-04-01 11:00:00</th>\n",
       "      <td>NaN</td>\n",
       "      <td>3108.512171</td>\n",
       "    </tr>\n",
       "    <tr>\n",
       "      <th>2021-04-01 12:00:00</th>\n",
       "      <td>NaN</td>\n",
       "      <td>2968.701378</td>\n",
       "    </tr>\n",
       "    <tr>\n",
       "      <th>2021-04-01 13:00:00</th>\n",
       "      <td>NaN</td>\n",
       "      <td>2944.325155</td>\n",
       "    </tr>\n",
       "    <tr>\n",
       "      <th>2021-04-01 14:00:00</th>\n",
       "      <td>NaN</td>\n",
       "      <td>3022.968144</td>\n",
       "    </tr>\n",
       "    <tr>\n",
       "      <th>2021-04-01 15:00:00</th>\n",
       "      <td>NaN</td>\n",
       "      <td>3149.955211</td>\n",
       "    </tr>\n",
       "    <tr>\n",
       "      <th>2021-04-01 16:00:00</th>\n",
       "      <td>NaN</td>\n",
       "      <td>3594.740797</td>\n",
       "    </tr>\n",
       "    <tr>\n",
       "      <th>2021-04-01 17:00:00</th>\n",
       "      <td>NaN</td>\n",
       "      <td>4034.322545</td>\n",
       "    </tr>\n",
       "    <tr>\n",
       "      <th>2021-04-01 18:00:00</th>\n",
       "      <td>NaN</td>\n",
       "      <td>3885.066326</td>\n",
       "    </tr>\n",
       "    <tr>\n",
       "      <th>2021-04-01 19:00:00</th>\n",
       "      <td>NaN</td>\n",
       "      <td>4132.108193</td>\n",
       "    </tr>\n",
       "    <tr>\n",
       "      <th>2021-04-01 20:00:00</th>\n",
       "      <td>NaN</td>\n",
       "      <td>4147.759335</td>\n",
       "    </tr>\n",
       "    <tr>\n",
       "      <th>2021-04-01 21:00:00</th>\n",
       "      <td>NaN</td>\n",
       "      <td>3979.506491</td>\n",
       "    </tr>\n",
       "    <tr>\n",
       "      <th>2021-04-01 22:00:00</th>\n",
       "      <td>NaN</td>\n",
       "      <td>3621.504445</td>\n",
       "    </tr>\n",
       "    <tr>\n",
       "      <th>2021-04-01 23:00:00</th>\n",
       "      <td>NaN</td>\n",
       "      <td>3916.780656</td>\n",
       "    </tr>\n",
       "    <tr>\n",
       "      <th>2021-04-02 00:00:00</th>\n",
       "      <td>NaN</td>\n",
       "      <td>3610.657413</td>\n",
       "    </tr>\n",
       "    <tr>\n",
       "      <th>2021-04-02 01:00:00</th>\n",
       "      <td>NaN</td>\n",
       "      <td>3605.971575</td>\n",
       "    </tr>\n",
       "    <tr>\n",
       "      <th>2021-04-02 02:00:00</th>\n",
       "      <td>NaN</td>\n",
       "      <td>3545.225978</td>\n",
       "    </tr>\n",
       "    <tr>\n",
       "      <th>2021-04-02 03:00:00</th>\n",
       "      <td>NaN</td>\n",
       "      <td>3500.629929</td>\n",
       "    </tr>\n",
       "    <tr>\n",
       "      <th>2021-04-02 04:00:00</th>\n",
       "      <td>NaN</td>\n",
       "      <td>3404.983336</td>\n",
       "    </tr>\n",
       "  </tbody>\n",
       "</table>\n",
       "</div>"
      ],
      "text/plain": [
       "                     mcp     forecast\n",
       "2021-04-01 00:00:00  NaN  3604.566994\n",
       "2021-04-01 01:00:00  NaN  3563.022688\n",
       "2021-04-01 02:00:00  NaN  3476.098039\n",
       "2021-04-01 03:00:00  NaN  3353.398382\n",
       "2021-04-01 04:00:00  NaN  3250.045897\n",
       "2021-04-01 05:00:00  NaN  3365.073400\n",
       "2021-04-01 06:00:00  NaN  3553.822649\n",
       "2021-04-01 07:00:00  NaN  3500.771495\n",
       "2021-04-01 08:00:00  NaN  3332.390483\n",
       "2021-04-01 09:00:00  NaN  3386.560612\n",
       "2021-04-01 10:00:00  NaN  3275.072096\n",
       "2021-04-01 11:00:00  NaN  3108.512171\n",
       "2021-04-01 12:00:00  NaN  2968.701378\n",
       "2021-04-01 13:00:00  NaN  2944.325155\n",
       "2021-04-01 14:00:00  NaN  3022.968144\n",
       "2021-04-01 15:00:00  NaN  3149.955211\n",
       "2021-04-01 16:00:00  NaN  3594.740797\n",
       "2021-04-01 17:00:00  NaN  4034.322545\n",
       "2021-04-01 18:00:00  NaN  3885.066326\n",
       "2021-04-01 19:00:00  NaN  4132.108193\n",
       "2021-04-01 20:00:00  NaN  4147.759335\n",
       "2021-04-01 21:00:00  NaN  3979.506491\n",
       "2021-04-01 22:00:00  NaN  3621.504445\n",
       "2021-04-01 23:00:00  NaN  3916.780656\n",
       "2021-04-02 00:00:00  NaN  3610.657413\n",
       "2021-04-02 01:00:00  NaN  3605.971575\n",
       "2021-04-02 02:00:00  NaN  3545.225978\n",
       "2021-04-02 03:00:00  NaN  3500.629929\n",
       "2021-04-02 04:00:00  NaN  3404.983336"
      ]
     },
     "execution_count": 80,
     "metadata": {},
     "output_type": "execute_result"
    }
   ],
   "source": [
    "future_datest_df"
   ]
  },
  {
   "cell_type": "code",
   "execution_count": 81,
   "id": "8878c5f5",
   "metadata": {},
   "outputs": [
    {
     "data": {
      "text/plain": [
       "<AxesSubplot:>"
      ]
     },
     "execution_count": 81,
     "metadata": {},
     "output_type": "execute_result"
    },
    {
     "data": {
      "image/png": "[encoded data removed]",
      "text/plain": [
       "<Figure size 864x576 with 1 Axes>"
      ]
     },
     "metadata": {
      "needs_background": "light"
     },
     "output_type": "display_data"
    }
   ],
   "source": [
    "future_datest_df.plot(figsize=(12, 8)) "
   ]
  },
  {
   "cell_type": "code",
   "execution_count": 82,
   "id": "fe5d51f9",
   "metadata": {},
   "outputs": [],
   "source": [
    "future_df=pd.concat([test,future_datest_df])"
   ]
  },
  {
   "cell_type": "code",
   "execution_count": 83,
   "id": "6e2104c0",
   "metadata": {},
   "outputs": [
    {
     "data": {
      "text/plain": [
       "<AxesSubplot:>"
      ]
     },
     "execution_count": 83,
     "metadata": {},
     "output_type": "execute_result"
    },
    {
     "data": {
      "image/png": "[encoded data removed]",
      "text/plain": [
       "<Figure size 864x576 with 1 Axes>"
      ]
     },
     "metadata": {
      "needs_background": "light"
     },
     "output_type": "display_data"
    }
   ],
   "source": [
    "future_df.plot(figsize=(12, 8))"
   ]
  },
  {
   "cell_type": "code",
   "execution_count": 384,
   "id": "a9dbd0c7",
   "metadata": {},
   "outputs": [
    {
     "data": {
      "text/html": [
       "<div>\n",
       "<style scoped>\n",
       "    .dataframe tbody tr th:only-of-type {\n",
       "        vertical-align: middle;\n",
       "    }\n",
       "\n",
       "    .dataframe tbody tr th {\n",
       "        vertical-align: top;\n",
       "    }\n",
       "\n",
       "    .dataframe thead th {\n",
       "        text-align: right;\n",
       "    }\n",
       "</style>\n",
       "<table border=\"1\" class=\"dataframe\">\n",
       "  <thead>\n",
       "    <tr style=\"text-align: right;\">\n",
       "      <th></th>\n",
       "      <th>mcp</th>\n",
       "    </tr>\n",
       "    <tr>\n",
       "      <th>days</th>\n",
       "      <th></th>\n",
       "    </tr>\n",
       "  </thead>\n",
       "  <tbody>\n",
       "    <tr>\n",
       "      <th>2021-12-31 19:00:00</th>\n",
       "      <td>4325.2825</td>\n",
       "    </tr>\n",
       "    <tr>\n",
       "      <th>2021-12-31 20:00:00</th>\n",
       "      <td>3707.3575</td>\n",
       "    </tr>\n",
       "    <tr>\n",
       "      <th>2021-12-31 21:00:00</th>\n",
       "      <td>3012.5650</td>\n",
       "    </tr>\n",
       "    <tr>\n",
       "      <th>2021-12-31 22:00:00</th>\n",
       "      <td>2531.9625</td>\n",
       "    </tr>\n",
       "    <tr>\n",
       "      <th>2021-12-31 23:00:00</th>\n",
       "      <td>2016.4550</td>\n",
       "    </tr>\n",
       "  </tbody>\n",
       "</table>\n",
       "</div>"
      ],
      "text/plain": [
       "                           mcp\n",
       "days                          \n",
       "2021-12-31 19:00:00  4325.2825\n",
       "2021-12-31 20:00:00  3707.3575\n",
       "2021-12-31 21:00:00  3012.5650\n",
       "2021-12-31 22:00:00  2531.9625\n",
       "2021-12-31 23:00:00  2016.4550"
      ]
     },
     "execution_count": 384,
     "metadata": {},
     "output_type": "execute_result"
    }
   ],
   "source": [
    "test.tail()"
   ]
  },
  {
   "cell_type": "code",
   "execution_count": 385,
   "id": "f205cf60",
   "metadata": {},
   "outputs": [
    {
     "data": {
      "text/html": [
       "<div>\n",
       "<style scoped>\n",
       "    .dataframe tbody tr th:only-of-type {\n",
       "        vertical-align: middle;\n",
       "    }\n",
       "\n",
       "    .dataframe tbody tr th {\n",
       "        vertical-align: top;\n",
       "    }\n",
       "\n",
       "    .dataframe thead th {\n",
       "        text-align: right;\n",
       "    }\n",
       "</style>\n",
       "<table border=\"1\" class=\"dataframe\">\n",
       "  <thead>\n",
       "    <tr style=\"text-align: right;\">\n",
       "      <th></th>\n",
       "      <th>mcp</th>\n",
       "      <th>forecast</th>\n",
       "    </tr>\n",
       "  </thead>\n",
       "  <tbody>\n",
       "    <tr>\n",
       "      <th>2021-12-31 00:00:00</th>\n",
       "      <td>1924.7300</td>\n",
       "      <td>NaN</td>\n",
       "    </tr>\n",
       "    <tr>\n",
       "      <th>2021-12-31 01:00:00</th>\n",
       "      <td>1899.7175</td>\n",
       "      <td>NaN</td>\n",
       "    </tr>\n",
       "    <tr>\n",
       "      <th>2021-12-31 02:00:00</th>\n",
       "      <td>1849.8375</td>\n",
       "      <td>NaN</td>\n",
       "    </tr>\n",
       "    <tr>\n",
       "      <th>2021-12-31 03:00:00</th>\n",
       "      <td>1899.4025</td>\n",
       "      <td>NaN</td>\n",
       "    </tr>\n",
       "    <tr>\n",
       "      <th>2021-12-31 04:00:00</th>\n",
       "      <td>1869.3150</td>\n",
       "      <td>NaN</td>\n",
       "    </tr>\n",
       "  </tbody>\n",
       "</table>\n",
       "</div>"
      ],
      "text/plain": [
       "                           mcp  forecast\n",
       "2021-12-31 00:00:00  1924.7300       NaN\n",
       "2021-12-31 01:00:00  1899.7175       NaN\n",
       "2021-12-31 02:00:00  1849.8375       NaN\n",
       "2021-12-31 03:00:00  1899.4025       NaN\n",
       "2021-12-31 04:00:00  1869.3150       NaN"
      ]
     },
     "execution_count": 385,
     "metadata": {},
     "output_type": "execute_result"
    }
   ],
   "source": [
    "future_df.head()"
   ]
  },
  {
   "cell_type": "code",
   "execution_count": 29,
   "id": "4ee5e92e",
   "metadata": {},
   "outputs": [
    {
     "data": {
      "text/plain": [
       "True"
      ]
     },
     "execution_count": 29,
     "metadata": {},
     "output_type": "execute_result"
    }
   ],
   "source": []
  },
  {
   "cell_type": "code",
   "execution_count": null,
   "id": "7338c9f0",
   "metadata": {},
   "outputs": [],
   "source": []
  }
 ],
 "metadata": {
  "kernelspec": {
   "display_name": "Python 3 (ipykernel)",
   "language": "python",
   "name": "python3"
  },
  "language_info": {
   "codemirror_mode": {
    "name": "ipython",
    "version": 3
   },
   "file_extension": ".py",
   "mimetype": "text/x-python",
   "name": "python",
   "nbconvert_exporter": "python",
   "pygments_lexer": "ipython3",
   "version": "3.10.1"
  }
 },
 "nbformat": 4,
 "nbformat_minor": 5
}
